{
 "cells": [
  {
   "cell_type": "code",
   "execution_count": 1,
   "metadata": {},
   "outputs": [],
   "source": [
    "# Find conda environment\n",
    "# /home/ahnaf/py3_env/pysyft381\n",
    "# !echo $CONDA_PREFIX\n",
    "\n",
    "import os\n",
    "import matplotlib.pyplot as plt\n",
    "import pickle, time, tqdm\n",
    "os.environ[\"CUDA_DEVICE_ORDER\"]=\"PCI_BUS_ID\";\n",
    "\n",
    "#The GPU id to use, usually either \"0\" or \"1\";\n",
    "os.environ[\"CUDA_VISIBLE_DEVICES\"]=\"1\"\n",
    "from data_utils import dataset_select, DataSubset  # Returns the train and test sets for the chosen dataset; dataset_select and class DataSubset\n",
    "from data_dist import * # (Returns the dictionary of nodes/data partitions for both iid and nidd) )\n",
    "# from DNN import * # (Returns Network, client update, aggregate)\n",
    "from d2denvironment import *  #(returns cluster_set, graph, Laplacian and Eigenvalues)\n",
    "from train_round import *\n",
    "from DNN import *\n",
    "import torch\n",
    "from torch.utils.data import Dataset, DataLoader, TensorDataset, IterableDataset\n",
    "import matplotlib.pyplot as plt\n",
    "from data_dist import *\n",
    "from train_round import *\n",
    "num_nodes = 10\n",
    "num_rounds = 15\n",
    "dataset = 'mnist'\n",
    "traindata, testdata = dataset_select(dataset)\n",
    "train_dist = data_iid(traindata, num_nodes)\n",
    "test_dist = data_iid(testdata, num_nodes)\n",
    "\n",
    "train_loader = torch.utils.data.DataLoader(traindata, batch_size = 32)\n",
    "test_loader =torch.utils.data.DataLoader(testdata)\n",
    "agg_model = Net(10, 1, dataset).cuda()\n",
    "models = {node:Net(10, 1, dataset).cuda() for node in range(num_nodes)}\n",
    "optimizers = {node:torch.optim.SGD(model.parameters(), lr = 0.1) for node, model in models.items()}"
   ]
  },
  {
   "cell_type": "code",
   "execution_count": null,
   "metadata": {},
   "outputs": [],
   "source": [
    "nodeloss_list = {node:[] for node in range(num_nodes)}\n",
    "nodeacc_list = {node:[] for node in range(num_nodes)}\n",
    "\n",
    "aggloss_list = []\n",
    "aggacc_list = []\n",
    "\n",
    "for rnd in range(num_rounds):\n",
    "    for node, model in models.items():\n",
    "        model_updated = client_update(model, optimizers[node], DataLoader(DataSubset(traindata, train_dist, node), batch_size = 32), nodeloss_list[node], 2)\n",
    "\n",
    "    aggregated_model = server_aggregate(models, list(range(num_nodes)))\n",
    "    \n",
    "    for node in range(num_nodes):\n",
    "        aggloss, aggacc = test(aggregated_model, DataLoader(DataSubset(testdata, test_dist, node)))\n",
    "        nodeloss, nodeacc = test(models[node], DataLoader(DataSubset(testdata, test_dist, node)))\n",
    "        \n",
    "        nodeloss_list[node].append(nodeloss)\n",
    "        aggloss_list.append(aggloss)\n",
    "        nodeacc_list[node].append(nodeacc)\n",
    "        aggacc_list.append(aggacc)\n",
    "        print(f'Accuracy for aggregated model for node{node} is {aggacc:0.5f}')\n",
    "        print(f'Individual model accuracy for node{node} is {nodeacc:0.5f}')\n",
    "        \n",
    "        models[node].load_state_dict(aggregated_model.state_dict())"
   ]
  },
  {
   "cell_type": "code",
   "execution_count": null,
   "metadata": {},
   "outputs": [],
   "source": [
    "for node in list(range(num_nodes)):\n",
    "    plt.plot(nodeloss_list[node])"
   ]
  },
  {
   "cell_type": "code",
   "execution_count": null,
   "metadata": {},
   "outputs": [],
   "source": [
    "for node in list(range(num_nodes)):\n",
    "    plt.plot(nodeacc_list[node])"
   ]
  },
  {
   "cell_type": "code",
   "execution_count": null,
   "metadata": {},
   "outputs": [],
   "source": [
    "plt.plot(aggacc_list)"
   ]
  },
  {
   "cell_type": "code",
   "execution_count": null,
   "metadata": {},
   "outputs": [],
   "source": [
    "for node in range(num_nodes):\n",
    "    nodeloss, nodeacc = test(aggregated_model, DataLoader(DataSubset(testdata, test_dist, node)))\n",
    "    print(nodeloss, nodeacc)"
   ]
  },
  {
   "cell_type": "code",
   "execution_count": null,
   "metadata": {},
   "outputs": [],
   "source": [
    "for node in range(num_nodes):\n",
    "    nodeloss, nodeacc = test(models[0], DataLoader(DataSubset(testdata, test_dist, node)))\n",
    "    print(nodeloss, nodeacc)"
   ]
  },
  {
   "cell_type": "code",
   "execution_count": null,
   "metadata": {},
   "outputs": [],
   "source": [
    "for i in range(len(loss_list)):\n",
    "    plt.plot(loss_list[i])"
   ]
  },
  {
   "cell_type": "code",
   "execution_count": null,
   "metadata": {},
   "outputs": [],
   "source": [
    "for i in range(len(nodeacc_list)):\n",
    "    plt.plot(aggacc_list[i])"
   ]
  },
  {
   "cell_type": "code",
   "execution_count": null,
   "metadata": {},
   "outputs": [],
   "source": [
    "def aggregator(client_models, node_list):    \n",
    "    base_model = copy.deepcopy(client_models[0])\n",
    "    for k in base_model.state_dict().keys():\n",
    "        base_model.state_dict()[k] = torch.stack([client_models[node].state_dict()[k].float() for node in node_list], 0).mean(0)\n",
    "    return base_model\n",
    "\n",
    "def model_checker(model1, model2):\n",
    "    models_differ = 0\n",
    "    for modeldata1, modeldata2 in zip(model1.state_dict().items(), model2.state_dict().items()):\n",
    "        if torch.equal(modeldata1[1], modeldata2[1]):\n",
    "            pass\n",
    "        else:\n",
    "            models_differ += 1\n",
    "            if (modeldata1[0] ==  modeldata2[0]):\n",
    "                print(\"Mismatch at \", modeldata1[0])\n",
    "            else:\n",
    "                raise Exception\n",
    "    if models_differ == 0:\n",
    "        print('Models match')"
   ]
  },
  {
   "cell_type": "code",
   "execution_count": 2,
   "metadata": {},
   "outputs": [
    {
     "name": "stderr",
     "output_type": "stream",
     "text": [
      "/home/ahnaf/Fed_Learn/Divergence/data_utils.py:25: UserWarning: To copy construct from a tensor, it is recommended to use sourceTensor.clone().detach() or sourceTensor.clone().detach().requires_grad_(True), rather than torch.tensor(sourceTensor).\n",
      "  return torch.tensor(image), torch.tensor(label)\n"
     ]
    },
    {
     "name": "stdout",
     "output_type": "stream",
     "text": [
      "Accuracy for node0 is 0.11400\n",
      "Test loss for node0 is 2.31030\n",
      "Accuracy for node1 is 0.09100\n",
      "Test loss for node1 is 2.30342\n",
      "Accuracy for node2 is 0.07800\n",
      "Test loss for node2 is 2.30632\n",
      "Accuracy for node3 is 0.11500\n",
      "Test loss for node3 is 2.31341\n",
      "Accuracy for node4 is 0.09100\n",
      "Test loss for node4 is 2.30462\n",
      "Accuracy for node5 is 0.05400\n",
      "Test loss for node5 is 2.31443\n",
      "Accuracy for node6 is 0.08200\n",
      "Test loss for node6 is 2.30706\n",
      "Accuracy for node7 is 0.10100\n",
      "Test loss for node7 is 2.29795\n",
      "Accuracy for node8 is 0.10200\n",
      "Test loss for node8 is 2.31248\n",
      "Accuracy for node9 is 0.08700\n",
      "Test loss for node9 is 2.30878\n"
     ]
    }
   ],
   "source": [
    "# Testing function\n",
    "test_list = {node:[] for node in range(num_nodes)}\n",
    "model_testing(models, testdata, test_dist, test_list)"
   ]
  },
  {
   "cell_type": "code",
   "execution_count": 8,
   "metadata": {},
   "outputs": [
    {
     "name": "stdout",
     "output_type": "stream",
     "text": [
      "Starting update and aggregation for d2d_clus\n",
      "The cluster configuration for d2d_clus is [array([1, 4, 5, 0]), array([4, 1, 3, 0])]\n",
      "  0%|                                                     | 0/1 [00:00<?, ?it/s]/home/ahnaf/Fed_Learn/Divergence/data_utils.py:25: UserWarning: To copy construct from a tensor, it is recommended to use sourceTensor.clone().detach() or sourceTensor.clone().detach().requires_grad_(True), rather than torch.tensor(sourceTensor).\n",
      "  return torch.tensor(image), torch.tensor(label)\n",
      "100%|█████████████████████████████████████████████| 1/1 [00:28<00:00, 28.95s/it]\n",
      " Loss for node 0 in the round-epoch 0 is 0.30289\n",
      "100%|█████████████████████████████████████████████| 1/1 [00:28<00:00, 28.87s/it]\n",
      " Loss for node 1 in the round-epoch 0 is 0.30422\n",
      "100%|█████████████████████████████████████████████| 1/1 [00:28<00:00, 28.27s/it]\n",
      " Loss for node 2 in the round-epoch 0 is 0.30237\n",
      "100%|█████████████████████████████████████████████| 1/1 [00:27<00:00, 27.94s/it]\n",
      " Loss for node 3 in the round-epoch 0 is 0.30195\n",
      "100%|█████████████████████████████████████████████| 1/1 [00:28<00:00, 28.61s/it]\n",
      " Loss for node 4 in the round-epoch 0 is 0.28285\n",
      "100%|█████████████████████████████████████████████| 1/1 [00:29<00:00, 29.01s/it]\n",
      " Loss for node 5 in the round-epoch 0 is 0.30925\n",
      "For mode d2d_clus, the average cluster loss for cluster-0 is 0.29980\n",
      "For mode d2d_clus, the average cluster loss for cluster-1 is 0.29798\n",
      "For mode d2d_clus, the average global loss for 0.29889\n",
      "Accuracy for node0 is 0.97059\n",
      "Accuracy for node1 is 0.97299\n",
      "Accuracy for node2 is 0.96699\n",
      "Accuracy for node3 is 0.97839\n",
      "Accuracy for node4 is 0.96639\n",
      "Accuracy for node5 is 0.96759\n",
      "Round 0 for mode d2d_clus completed \n",
      "\n",
      "Starting update and aggregation for d2d\n",
      "100%|█████████████████████████████████████████████| 1/1 [00:28<00:00, 28.99s/it]\n",
      " Loss for node 0 in the round-epoch 0 is 0.30983\n",
      "100%|█████████████████████████████████████████████| 1/1 [00:28<00:00, 28.86s/it]\n",
      " Loss for node 1 in the round-epoch 0 is 0.31025\n",
      "100%|█████████████████████████████████████████████| 1/1 [00:28<00:00, 28.27s/it]\n",
      " Loss for node 2 in the round-epoch 0 is 0.30488\n",
      "100%|█████████████████████████████████████████████| 1/1 [00:28<00:00, 28.25s/it]\n",
      " Loss for node 3 in the round-epoch 0 is 0.29372\n",
      "100%|█████████████████████████████████████████████| 1/1 [00:28<00:00, 28.25s/it]\n",
      " Loss for node 4 in the round-epoch 0 is 0.28651\n",
      "100%|█████████████████████████████████████████████| 1/1 [00:28<00:00, 28.11s/it]\n",
      " Loss for node 5 in the round-epoch 0 is 0.31294\n",
      "For mode d2d, the average cluster loss for cluster-0 is 0.30488\n",
      "For mode d2d, the average cluster loss for cluster-1 is 0.30008\n",
      "For mode d2d, the average global loss for 0.30248\n",
      "Accuracy for node0 is 0.96699\n",
      "Accuracy for node1 is 0.94958\n",
      "Accuracy for node2 is 0.96819\n",
      "Accuracy for node3 is 0.97179\n",
      "Accuracy for node4 is 0.96579\n",
      "Accuracy for node5 is 0.96699\n",
      "Round 0 for mode d2d completed \n",
      "\n",
      "Starting update and aggregation for centr_fed\n",
      "100%|█████████████████████████████████████████████| 1/1 [00:28<00:00, 28.04s/it]\n",
      " Loss for node 0 in the round-epoch 0 is 0.31029\n",
      "100%|█████████████████████████████████████████████| 1/1 [00:28<00:00, 28.00s/it]\n",
      " Loss for node 1 in the round-epoch 0 is 0.30593\n",
      "100%|█████████████████████████████████████████████| 1/1 [00:28<00:00, 28.03s/it]\n",
      " Loss for node 2 in the round-epoch 0 is 0.31092\n",
      "100%|█████████████████████████████████████████████| 1/1 [00:27<00:00, 27.87s/it]\n",
      " Loss for node 3 in the round-epoch 0 is 0.29040\n",
      "100%|█████████████████████████████████████████████| 1/1 [00:28<00:00, 28.86s/it]\n",
      " Loss for node 4 in the round-epoch 0 is 0.28627\n",
      "100%|█████████████████████████████████████████████| 1/1 [00:28<00:00, 28.54s/it]\n",
      " Loss for node 5 in the round-epoch 0 is 0.32682\n",
      "For mode centr_fed, the average cluster loss for cluster-0 is 0.30733\n",
      "For mode centr_fed, the average cluster loss for cluster-1 is 0.29822\n",
      "For mode centr_fed, the average global loss for 0.30277\n",
      "Accuracy for node0 is 0.97059\n",
      "Accuracy for node1 is 0.97359\n",
      "Accuracy for node2 is 0.97899\n",
      "Accuracy for node3 is 0.96399\n",
      "Accuracy for node4 is 0.97239\n",
      "Accuracy for node5 is 0.97059\n",
      "Round 0 for mode centr_fed completed \n",
      "\n",
      "Starting update and aggregation for sgd\n",
      "100%|█████████████████████████████████████████████| 1/1 [00:31<00:00, 31.74s/it]\n",
      "Accuracy for SGD is 0.98010\n",
      "Training and aggregation completed-Moving to calculate Divergence\n",
      "SGD Divergence concluded\n"
     ]
    }
   ],
   "source": [
    "!python Main_Fed.py -n 6 -r 1 -e 1 -c 2 -m iid"
   ]
  },
  {
   "cell_type": "code",
   "execution_count": null,
   "metadata": {},
   "outputs": [],
   "source": []
  }
 ],
 "metadata": {
  "kernelspec": {
   "display_name": "Python 3",
   "language": "python",
   "name": "python3"
  },
  "language_info": {
   "codemirror_mode": {
    "name": "ipython",
    "version": 3
   },
   "file_extension": ".py",
   "mimetype": "text/x-python",
   "name": "python",
   "nbconvert_exporter": "python",
   "pygments_lexer": "ipython3",
   "version": "3.8.1"
  }
 },
 "nbformat": 4,
 "nbformat_minor": 4
}
