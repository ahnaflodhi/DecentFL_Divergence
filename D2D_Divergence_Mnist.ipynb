{
 "cells": [
  {
   "cell_type": "code",
   "execution_count": 1,
   "metadata": {},
   "outputs": [],
   "source": [
    "# Find conda environment\n",
    "# /home/ahnaf/py3_env/pysyft381\n",
    "# !echo $CONDA_PREFIX\n",
    "\n",
    "import os\n",
    "import matplotlib.pyplot as plt\n",
    "import pickle, time\n",
    "os.environ[\"CUDA_DEVICE_ORDER\"]=\"PCI_BUS_ID\";\n",
    "\n",
    "#The GPU id to use, usually either \"0\" or \"1\";\n",
    "os.environ[\"CUDA_VISIBLE_DEVICES\"]=\"0\"\n",
    "from data_utils import dataset_select, DataSubset  # Returns the train and test sets for the chosen dataset; dataset_select and class DataSubset\n",
    "from data_dist import * # (Returns the dictionary of nodes/data partitions for both iid and nidd) )\n",
    "from DNN import * # (Returns Network, client update, aggregate)\n",
    "from d2denvironment import *  #(returns cluster_set, graph, Laplacian and Eigenvalues)\n",
    "from train_round import *"
   ]
  },
  {
   "cell_type": "code",
   "execution_count": null,
   "metadata": {},
   "outputs": [
    {
     "name": "stderr",
     "output_type": "stream",
     "text": [
      "  0%|          | 0/2 [00:00<?, ?it/s]/home/ahnaf/Fed_Learn/Divergence/data_utils.py:50: UserWarning: To copy construct from a tensor, it is recommended to use sourceTensor.clone().detach() or sourceTensor.clone().detach().requires_grad_(True), rather than torch.tensor(sourceTensor).\n",
      "  return torch.tensor(image), torch.tensor(label)\n",
      "100%|██████████| 2/2 [00:23<00:00, 11.85s/it]\n",
      "100%|██████████| 2/2 [00:16<00:00,  8.15s/it]\n",
      "100%|██████████| 2/2 [00:13<00:00,  6.58s/it]\n",
      "100%|██████████| 2/2 [00:06<00:00,  3.22s/it]\n",
      "100%|██████████| 2/2 [00:02<00:00,  1.28s/it]\n",
      "100%|██████████| 2/2 [00:17<00:00,  8.87s/it]\n",
      "100%|██████████| 2/2 [00:19<00:00,  9.88s/it]\n",
      "100%|██████████| 2/2 [00:08<00:00,  4.31s/it]\n",
      "100%|██████████| 2/2 [00:23<00:00, 11.96s/it]\n",
      "100%|██████████| 2/2 [00:08<00:00,  4.04s/it]\n",
      "100%|██████████| 2/2 [00:23<00:00, 11.61s/it]\n",
      "100%|██████████| 2/2 [00:15<00:00,  7.98s/it]\n",
      "100%|██████████| 2/2 [00:06<00:00,  3.20s/it]\n",
      "100%|██████████| 2/2 [00:03<00:00,  1.53s/it]\n",
      "100%|██████████| 2/2 [00:03<00:00,  1.53s/it]\n",
      "100%|██████████| 2/2 [00:11<00:00,  5.57s/it]\n",
      "100%|██████████| 2/2 [00:05<00:00,  2.79s/it]\n",
      "100%|██████████| 2/2 [00:10<00:00,  5.17s/it]\n",
      "100%|██████████| 2/2 [00:12<00:00,  6.42s/it]\n",
      "100%|██████████| 2/2 [00:08<00:00,  4.06s/it]\n",
      "100%|██████████| 2/2 [00:19<00:00,  9.60s/it]\n",
      "100%|██████████| 2/2 [00:08<00:00,  4.32s/it]\n",
      "100%|██████████| 2/2 [00:03<00:00,  1.53s/it]\n",
      "100%|██████████| 2/2 [00:13<00:00,  6.84s/it]\n",
      "100%|██████████| 2/2 [00:23<00:00, 11.97s/it]\n",
      "100%|██████████| 2/2 [00:09<00:00,  4.74s/it]\n",
      "100%|██████████| 2/2 [00:12<00:00,  6.42s/it]\n",
      "100%|██████████| 2/2 [00:04<00:00,  2.36s/it]\n",
      "100%|██████████| 2/2 [00:03<00:00,  1.52s/it]\n",
      "100%|██████████| 2/2 [00:00<00:00,  2.38it/s]\n"
     ]
    },
    {
     "name": "stdout",
     "output_type": "stream",
     "text": [
      "Local update for all nodes for mode-d2d_clus completed\n",
      "Average train loss pre-aggregate 0.384\n",
      "End of round- Entering aggregation\n",
      "End of round- Entering aggregation\n",
      "End of round- Entering aggregation\n",
      "End of round- Entering aggregation\n",
      "End of round- Entering aggregation\n",
      "Aggregation for mode d2d_clus completed\n"
     ]
    },
    {
     "name": "stderr",
     "output_type": "stream",
     "text": [
      "\r",
      "  0%|          | 0/2 [00:00<?, ?it/s]"
     ]
    },
    {
     "name": "stdout",
     "output_type": "stream",
     "text": [
      "Model_testing completed\n",
      "Cycle 0 for mode d2d_clus completed\n"
     ]
    },
    {
     "name": "stderr",
     "output_type": "stream",
     "text": [
      "100%|██████████| 2/2 [00:21<00:00, 10.64s/it]\n",
      "100%|██████████| 2/2 [00:14<00:00,  7.11s/it]\n",
      "100%|██████████| 2/2 [00:12<00:00,  6.44s/it]\n",
      "100%|██████████| 2/2 [00:06<00:00,  3.21s/it]\n",
      "100%|██████████| 2/2 [00:02<00:00,  1.26s/it]\n",
      "100%|██████████| 2/2 [00:17<00:00,  8.83s/it]\n",
      "100%|██████████| 2/2 [00:19<00:00,  9.90s/it]\n",
      "100%|██████████| 2/2 [00:08<00:00,  4.32s/it]\n",
      "100%|██████████| 2/2 [00:23<00:00, 12.00s/it]\n",
      "100%|██████████| 2/2 [00:08<00:00,  4.05s/it]\n",
      "100%|██████████| 2/2 [00:23<00:00, 11.57s/it]\n",
      "100%|██████████| 2/2 [00:15<00:00,  7.98s/it]\n",
      "100%|██████████| 2/2 [00:06<00:00,  3.21s/it]\n",
      "100%|██████████| 2/2 [00:03<00:00,  1.63s/it]\n",
      "100%|██████████| 2/2 [00:03<00:00,  1.54s/it]\n",
      "100%|██████████| 2/2 [00:11<00:00,  5.61s/it]\n",
      "100%|██████████| 2/2 [00:05<00:00,  2.80s/it]\n",
      "100%|██████████| 2/2 [00:10<00:00,  5.21s/it]\n",
      "100%|██████████| 2/2 [00:12<00:00,  6.45s/it]\n",
      "100%|██████████| 2/2 [00:08<00:00,  4.11s/it]\n",
      "100%|██████████| 2/2 [00:19<00:00,  9.69s/it]\n",
      "100%|██████████| 2/2 [00:08<00:00,  4.34s/it]\n",
      "100%|██████████| 2/2 [00:03<00:00,  1.54s/it]\n",
      "100%|██████████| 2/2 [00:13<00:00,  6.87s/it]\n",
      "100%|██████████| 2/2 [00:24<00:00, 12.07s/it]\n",
      "100%|██████████| 2/2 [00:09<00:00,  4.77s/it]\n",
      "100%|██████████| 2/2 [00:12<00:00,  6.45s/it]\n",
      "100%|██████████| 2/2 [00:04<00:00,  2.40s/it]\n",
      "100%|██████████| 2/2 [00:03<00:00,  1.54s/it]\n",
      "100%|██████████| 2/2 [00:00<00:00,  2.36it/s]\n"
     ]
    },
    {
     "name": "stdout",
     "output_type": "stream",
     "text": [
      "Local update for all nodes for mode-d2d completed\n",
      "Average train loss pre-aggregate 0.34\n",
      "End of round- Entering aggregation\n",
      "End of round- Entering aggregation\n",
      "End of round- Entering aggregation\n",
      "End of round- Entering aggregation\n",
      "End of round- Entering aggregation\n",
      "End of round- Entering aggregation\n",
      "End of round- Entering aggregation\n",
      "End of round- Entering aggregation\n",
      "End of round- Entering aggregation\n",
      "End of round- Entering aggregation\n",
      "End of round- Entering aggregation\n",
      "End of round- Entering aggregation\n",
      "End of round- Entering aggregation\n",
      "End of round- Entering aggregation\n",
      "End of round- Entering aggregation\n",
      "Aggregation for mode d2d completed\n"
     ]
    },
    {
     "name": "stderr",
     "output_type": "stream",
     "text": [
      "\r",
      "  0%|          | 0/2 [00:00<?, ?it/s]"
     ]
    },
    {
     "name": "stdout",
     "output_type": "stream",
     "text": [
      "Model_testing completed\n",
      "Cycle 0 for mode d2d completed\n"
     ]
    },
    {
     "name": "stderr",
     "output_type": "stream",
     "text": [
      "100%|██████████| 2/2 [00:21<00:00, 10.75s/it]\n",
      "100%|██████████| 2/2 [00:14<00:00,  7.11s/it]\n",
      "100%|██████████| 2/2 [00:12<00:00,  6.45s/it]\n",
      "100%|██████████| 2/2 [00:06<00:00,  3.21s/it]\n",
      "100%|██████████| 2/2 [00:02<00:00,  1.26s/it]\n",
      "100%|██████████| 2/2 [00:17<00:00,  8.78s/it]\n",
      "100%|██████████| 2/2 [00:19<00:00,  9.88s/it]\n",
      "100%|██████████| 2/2 [00:08<00:00,  4.40s/it]\n",
      "100%|██████████| 2/2 [00:24<00:00, 12.22s/it]\n",
      "100%|██████████| 2/2 [00:08<00:00,  4.06s/it]\n",
      "100%|██████████| 2/2 [00:23<00:00, 11.53s/it]\n",
      "100%|██████████| 2/2 [00:15<00:00,  7.98s/it]\n",
      "100%|██████████| 2/2 [00:06<00:00,  3.20s/it]\n",
      "100%|██████████| 2/2 [00:03<00:00,  1.54s/it]\n",
      "100%|██████████| 2/2 [00:03<00:00,  1.53s/it]\n",
      "100%|██████████| 2/2 [00:11<00:00,  5.55s/it]\n",
      "100%|██████████| 2/2 [00:05<00:00,  2.77s/it]\n",
      "100%|██████████| 2/2 [00:10<00:00,  5.13s/it]\n",
      "100%|██████████| 2/2 [00:12<00:00,  6.40s/it]\n",
      "100%|██████████| 2/2 [00:08<00:00,  4.01s/it]\n",
      "100%|██████████| 2/2 [00:19<00:00,  9.57s/it]\n",
      "100%|██████████| 2/2 [00:08<00:00,  4.30s/it]\n",
      "100%|██████████| 2/2 [00:03<00:00,  1.53s/it]\n",
      "100%|██████████| 2/2 [00:13<00:00,  6.80s/it]\n",
      "100%|██████████| 2/2 [00:23<00:00, 11.91s/it]\n",
      "100%|██████████| 2/2 [00:09<00:00,  4.75s/it]\n",
      "100%|██████████| 2/2 [00:12<00:00,  6.47s/it]\n",
      "100%|██████████| 2/2 [00:04<00:00,  2.36s/it]\n",
      "100%|██████████| 2/2 [00:03<00:00,  1.53s/it]\n",
      "100%|██████████| 2/2 [00:00<00:00,  2.36it/s]\n"
     ]
    },
    {
     "name": "stdout",
     "output_type": "stream",
     "text": [
      "Local update for all nodes for mode-centr_fed completed\n",
      "Average train loss pre-aggregate 0.363\n",
      "End of round- Entering aggregation\n",
      "Aggregation for mode centr_fed completed\n"
     ]
    },
    {
     "name": "stderr",
     "output_type": "stream",
     "text": [
      "\r",
      "  0%|          | 0/2 [00:00<?, ?it/s]"
     ]
    },
    {
     "name": "stdout",
     "output_type": "stream",
     "text": [
      "Model_testing completed\n",
      "Cycle 0 for mode centr_fed completed\n"
     ]
    },
    {
     "name": "stderr",
     "output_type": "stream",
     "text": [
      "100%|██████████| 2/2 [05:31<00:00, 165.81s/it]\n",
      "  0%|          | 0/2 [00:00<?, ?it/s]"
     ]
    },
    {
     "name": "stdout",
     "output_type": "stream",
     "text": [
      "SGD Training completed-Moving to calculate Divergence\n",
      "SGD Divergence concluded\n"
     ]
    },
    {
     "name": "stderr",
     "output_type": "stream",
     "text": [
      "100%|██████████| 2/2 [00:21<00:00, 10.84s/it]\n",
      "100%|██████████| 2/2 [00:14<00:00,  7.24s/it]\n",
      "100%|██████████| 2/2 [00:13<00:00,  6.51s/it]\n",
      "100%|██████████| 2/2 [00:06<00:00,  3.23s/it]\n",
      "100%|██████████| 2/2 [00:02<00:00,  1.26s/it]\n",
      "100%|██████████| 2/2 [00:17<00:00,  8.83s/it]\n",
      "100%|██████████| 2/2 [00:19<00:00,  9.92s/it]\n",
      "100%|██████████| 2/2 [00:08<00:00,  4.35s/it]\n",
      "100%|██████████| 2/2 [00:24<00:00, 12.01s/it]\n",
      "100%|██████████| 2/2 [00:08<00:00,  4.20s/it]\n",
      "100%|██████████| 2/2 [00:23<00:00, 11.60s/it]\n",
      "100%|██████████| 2/2 [00:15<00:00,  7.97s/it]\n",
      "100%|██████████| 2/2 [00:06<00:00,  3.23s/it]\n",
      "100%|██████████| 2/2 [00:03<00:00,  1.55s/it]\n",
      "100%|██████████| 2/2 [00:03<00:00,  1.55s/it]\n",
      "100%|██████████| 2/2 [00:11<00:00,  5.60s/it]\n",
      "100%|██████████| 2/2 [00:05<00:00,  2.79s/it]\n",
      "100%|██████████| 2/2 [00:10<00:00,  5.15s/it]\n",
      "100%|██████████| 2/2 [00:12<00:00,  6.43s/it]\n",
      "100%|██████████| 2/2 [00:08<00:00,  4.05s/it]\n",
      "100%|██████████| 2/2 [00:19<00:00,  9.58s/it]\n",
      "100%|██████████| 2/2 [00:08<00:00,  4.34s/it]\n",
      "100%|██████████| 2/2 [00:03<00:00,  1.53s/it]\n",
      "100%|██████████| 2/2 [00:13<00:00,  6.80s/it]\n",
      "100%|██████████| 2/2 [00:24<00:00, 12.07s/it]\n",
      "100%|██████████| 2/2 [00:09<00:00,  4.74s/it]\n",
      "100%|██████████| 2/2 [00:12<00:00,  6.40s/it]\n",
      "100%|██████████| 2/2 [00:04<00:00,  2.40s/it]\n",
      "100%|██████████| 2/2 [00:03<00:00,  1.55s/it]\n",
      "100%|██████████| 2/2 [00:00<00:00,  2.35it/s]\n"
     ]
    },
    {
     "name": "stdout",
     "output_type": "stream",
     "text": [
      "Local update for all nodes for mode-d2d_clus completed\n",
      "Average train loss pre-aggregate 0.179\n",
      "End of round- Entering aggregation\n",
      "End of round- Entering aggregation\n",
      "End of round- Entering aggregation\n",
      "End of round- Entering aggregation\n",
      "End of round- Entering aggregation\n",
      "Aggregation for mode d2d_clus completed\n"
     ]
    },
    {
     "name": "stderr",
     "output_type": "stream",
     "text": [
      "\r",
      "  0%|          | 0/2 [00:00<?, ?it/s]"
     ]
    },
    {
     "name": "stdout",
     "output_type": "stream",
     "text": [
      "Model_testing completed\n",
      "Cycle 1 for mode d2d_clus completed\n"
     ]
    },
    {
     "name": "stderr",
     "output_type": "stream",
     "text": [
      "100%|██████████| 2/2 [00:21<00:00, 10.76s/it]\n",
      "100%|██████████| 2/2 [00:14<00:00,  7.12s/it]\n",
      "100%|██████████| 2/2 [00:12<00:00,  6.44s/it]\n",
      "100%|██████████| 2/2 [00:06<00:00,  3.23s/it]\n",
      "100%|██████████| 2/2 [00:02<00:00,  1.32s/it]\n",
      "100%|██████████| 2/2 [00:17<00:00,  8.76s/it]\n",
      "100%|██████████| 2/2 [00:19<00:00,  9.92s/it]\n",
      "100%|██████████| 2/2 [00:08<00:00,  4.32s/it]\n",
      "100%|██████████| 2/2 [00:23<00:00, 11.96s/it]\n",
      "100%|██████████| 2/2 [00:08<00:00,  4.04s/it]\n",
      "100%|██████████| 2/2 [00:23<00:00, 11.54s/it]\n",
      "100%|██████████| 2/2 [00:15<00:00,  7.91s/it]\n",
      "100%|██████████| 2/2 [00:06<00:00,  3.19s/it]\n",
      "100%|██████████| 2/2 [00:03<00:00,  1.54s/it]\n",
      "100%|██████████| 2/2 [00:03<00:00,  1.54s/it]\n",
      "100%|██████████| 2/2 [00:11<00:00,  5.56s/it]\n",
      "100%|██████████| 2/2 [00:05<00:00,  2.80s/it]\n",
      "100%|██████████| 2/2 [00:10<00:00,  5.17s/it]\n",
      "100%|██████████| 2/2 [00:12<00:00,  6.40s/it]\n",
      "100%|██████████| 2/2 [00:08<00:00,  4.03s/it]\n",
      "100%|██████████| 2/2 [00:19<00:00,  9.60s/it]\n",
      "100%|██████████| 2/2 [00:08<00:00,  4.32s/it]\n",
      "100%|██████████| 2/2 [00:03<00:00,  1.54s/it]\n",
      "100%|██████████| 2/2 [00:13<00:00,  6.87s/it]\n",
      "100%|██████████| 2/2 [00:23<00:00, 11.98s/it]\n",
      "100%|██████████| 2/2 [00:09<00:00,  4.73s/it]\n",
      "100%|██████████| 2/2 [00:12<00:00,  6.46s/it]\n",
      "100%|██████████| 2/2 [00:04<00:00,  2.37s/it]\n",
      "100%|██████████| 2/2 [00:03<00:00,  1.54s/it]\n",
      "100%|██████████| 2/2 [00:00<00:00,  2.37it/s]\n"
     ]
    },
    {
     "name": "stdout",
     "output_type": "stream",
     "text": [
      "Local update for all nodes for mode-d2d completed\n",
      "Average train loss pre-aggregate 0.3\n",
      "End of round- Entering aggregation\n",
      "Aggregation for mode d2d completed\n"
     ]
    },
    {
     "name": "stderr",
     "output_type": "stream",
     "text": [
      "\r",
      "  0%|          | 0/2 [00:00<?, ?it/s]"
     ]
    },
    {
     "name": "stdout",
     "output_type": "stream",
     "text": [
      "Model_testing completed\n",
      "Cycle 1 for mode d2d completed\n"
     ]
    },
    {
     "name": "stderr",
     "output_type": "stream",
     "text": [
      "100%|██████████| 2/2 [00:21<00:00, 10.75s/it]\n",
      "100%|██████████| 2/2 [00:14<00:00,  7.12s/it]\n",
      "100%|██████████| 2/2 [00:13<00:00,  6.50s/it]\n",
      "100%|██████████| 2/2 [00:06<00:00,  3.20s/it]\n",
      "100%|██████████| 2/2 [00:02<00:00,  1.25s/it]\n",
      "100%|██████████| 2/2 [00:17<00:00,  8.80s/it]\n",
      "100%|██████████| 2/2 [00:19<00:00,  9.82s/it]\n",
      "100%|██████████| 2/2 [00:08<00:00,  4.29s/it]\n",
      "100%|██████████| 2/2 [00:23<00:00, 11.93s/it]\n",
      "100%|██████████| 2/2 [00:08<00:00,  4.01s/it]\n",
      "100%|██████████| 2/2 [00:23<00:00, 11.52s/it]\n",
      "100%|██████████| 2/2 [00:15<00:00,  7.87s/it]\n",
      "100%|██████████| 2/2 [00:06<00:00,  3.18s/it]\n",
      "100%|██████████| 2/2 [00:03<00:00,  1.52s/it]\n",
      "100%|██████████| 2/2 [00:03<00:00,  1.52s/it]\n",
      "100%|██████████| 2/2 [00:11<00:00,  5.53s/it]\n",
      "100%|██████████| 2/2 [00:05<00:00,  2.77s/it]\n",
      "100%|██████████| 2/2 [00:10<00:00,  5.12s/it]\n",
      "100%|██████████| 2/2 [00:12<00:00,  6.38s/it]\n",
      "100%|██████████| 2/2 [00:08<00:00,  4.01s/it]\n",
      "100%|██████████| 2/2 [00:19<00:00,  9.56s/it]\n",
      "100%|██████████| 2/2 [00:08<00:00,  4.29s/it]\n",
      "100%|██████████| 2/2 [00:03<00:00,  1.53s/it]\n",
      "100%|██████████| 2/2 [00:13<00:00,  6.80s/it]\n",
      "100%|██████████| 2/2 [00:23<00:00, 11.90s/it]\n",
      "100%|██████████| 2/2 [00:09<00:00,  4.70s/it]\n",
      "100%|██████████| 2/2 [00:12<00:00,  6.36s/it]\n",
      "100%|██████████| 2/2 [00:04<00:00,  2.35s/it]\n",
      "100%|██████████| 2/2 [00:03<00:00,  1.52s/it]\n",
      "100%|██████████| 2/2 [00:00<00:00,  2.46it/s]\n"
     ]
    },
    {
     "name": "stdout",
     "output_type": "stream",
     "text": [
      "Local update for all nodes for mode-centr_fed completed\n",
      "Average train loss pre-aggregate 0.0711\n",
      "End of round- Entering aggregation\n",
      "Aggregation for mode centr_fed completed\n"
     ]
    },
    {
     "name": "stderr",
     "output_type": "stream",
     "text": [
      "\r",
      "  0%|          | 0/2 [00:00<?, ?it/s]"
     ]
    },
    {
     "name": "stdout",
     "output_type": "stream",
     "text": [
      "Model_testing completed\n",
      "Cycle 1 for mode centr_fed completed\n"
     ]
    },
    {
     "name": "stderr",
     "output_type": "stream",
     "text": [
      "100%|██████████| 2/2 [05:25<00:00, 162.66s/it]\n",
      "  0%|          | 0/2 [00:00<?, ?it/s]"
     ]
    },
    {
     "name": "stdout",
     "output_type": "stream",
     "text": [
      "SGD Training completed-Moving to calculate Divergence\n",
      "SGD Divergence concluded\n"
     ]
    },
    {
     "name": "stderr",
     "output_type": "stream",
     "text": [
      "100%|██████████| 2/2 [00:16<00:00,  8.44s/it]\n",
      "100%|██████████| 2/2 [00:11<00:00,  5.60s/it]\n",
      "100%|██████████| 2/2 [00:12<00:00,  6.37s/it]\n",
      "100%|██████████| 2/2 [00:06<00:00,  3.23s/it]\n",
      "100%|██████████| 2/2 [00:02<00:00,  1.26s/it]\n",
      "100%|██████████| 2/2 [00:17<00:00,  8.83s/it]\n",
      "100%|██████████| 2/2 [00:19<00:00,  9.88s/it]\n",
      "100%|██████████| 2/2 [00:08<00:00,  4.32s/it]\n",
      "100%|██████████| 2/2 [00:23<00:00, 11.99s/it]\n",
      "100%|██████████| 2/2 [00:08<00:00,  4.02s/it]\n",
      "100%|██████████| 2/2 [00:23<00:00, 11.58s/it]\n",
      "100%|██████████| 2/2 [00:16<00:00,  8.00s/it]\n",
      "100%|██████████| 2/2 [00:06<00:00,  3.20s/it]\n",
      "100%|██████████| 2/2 [00:03<00:00,  1.54s/it]\n",
      "100%|██████████| 2/2 [00:03<00:00,  1.54s/it]\n",
      "100%|██████████| 2/2 [00:11<00:00,  5.54s/it]\n",
      "100%|██████████| 2/2 [00:05<00:00,  2.75s/it]\n",
      "100%|██████████| 2/2 [00:08<00:00,  4.06s/it]\n",
      "100%|██████████| 2/2 [00:11<00:00,  5.66s/it]\n",
      "100%|██████████| 2/2 [00:08<00:00,  4.07s/it]\n",
      "100%|██████████| 2/2 [00:19<00:00,  9.64s/it]\n",
      "100%|██████████| 2/2 [00:08<00:00,  4.34s/it]\n",
      "100%|██████████| 2/2 [00:03<00:00,  1.55s/it]\n",
      "100%|██████████| 2/2 [00:13<00:00,  6.87s/it]\n",
      "100%|██████████| 2/2 [00:24<00:00, 12.03s/it]\n",
      "100%|██████████| 2/2 [00:09<00:00,  4.76s/it]\n",
      "100%|██████████| 2/2 [00:13<00:00,  6.55s/it]\n",
      "100%|██████████| 2/2 [00:04<00:00,  2.42s/it]\n",
      "100%|██████████| 2/2 [00:03<00:00,  1.55s/it]\n",
      "100%|██████████| 2/2 [00:00<00:00,  2.35it/s]\n"
     ]
    },
    {
     "name": "stdout",
     "output_type": "stream",
     "text": [
      "Local update for all nodes for mode-d2d_clus completed\n",
      "Average train loss pre-aggregate 0.307\n",
      "End of round- Entering aggregation\n",
      "End of round- Entering aggregation\n",
      "End of round- Entering aggregation\n",
      "End of round- Entering aggregation\n",
      "End of round- Entering aggregation\n",
      "Aggregation for mode d2d_clus completed\n"
     ]
    },
    {
     "name": "stderr",
     "output_type": "stream",
     "text": [
      "\r",
      "  0%|          | 0/2 [00:00<?, ?it/s]"
     ]
    },
    {
     "name": "stdout",
     "output_type": "stream",
     "text": [
      "Model_testing completed\n",
      "Cycle 2 for mode d2d_clus completed\n"
     ]
    },
    {
     "name": "stderr",
     "output_type": "stream",
     "text": [
      "100%|██████████| 2/2 [00:21<00:00, 10.81s/it]\n",
      "100%|██████████| 2/2 [00:14<00:00,  7.12s/it]\n",
      "100%|██████████| 2/2 [00:12<00:00,  6.46s/it]\n",
      "100%|██████████| 2/2 [00:06<00:00,  3.24s/it]\n",
      "100%|██████████| 2/2 [00:02<00:00,  1.27s/it]\n",
      "100%|██████████| 2/2 [00:17<00:00,  8.84s/it]\n",
      "100%|██████████| 2/2 [00:19<00:00,  9.97s/it]\n",
      "100%|██████████| 2/2 [00:08<00:00,  4.34s/it]\n",
      "100%|██████████| 2/2 [00:23<00:00, 11.98s/it]\n",
      "100%|██████████| 2/2 [00:08<00:00,  4.07s/it]\n",
      "100%|██████████| 2/2 [00:23<00:00, 11.55s/it]\n",
      "100%|██████████| 2/2 [00:15<00:00,  7.93s/it]\n",
      "100%|██████████| 2/2 [00:06<00:00,  3.23s/it]\n",
      "100%|██████████| 2/2 [00:03<00:00,  1.53s/it]\n",
      "100%|██████████| 2/2 [00:03<00:00,  1.55s/it]\n",
      "100%|██████████| 2/2 [00:11<00:00,  5.55s/it]\n",
      "100%|██████████| 2/2 [00:05<00:00,  2.82s/it]\n",
      "100%|██████████| 2/2 [00:10<00:00,  5.46s/it]\n",
      "100%|██████████| 2/2 [00:12<00:00,  6.48s/it]\n",
      "100%|██████████| 2/2 [00:08<00:00,  4.06s/it]\n",
      "100%|██████████| 2/2 [00:19<00:00,  9.66s/it]\n",
      "100%|██████████| 2/2 [00:08<00:00,  4.48s/it]\n",
      "100%|██████████| 2/2 [00:03<00:00,  1.54s/it]\n",
      "100%|██████████| 2/2 [00:13<00:00,  6.99s/it]\n",
      "100%|██████████| 2/2 [00:24<00:00, 12.13s/it]\n",
      "100%|██████████| 2/2 [00:09<00:00,  4.78s/it]\n",
      "100%|██████████| 2/2 [00:12<00:00,  6.50s/it]\n",
      "100%|██████████| 2/2 [00:04<00:00,  2.40s/it]\n",
      "100%|██████████| 2/2 [00:03<00:00,  1.55s/it]\n",
      "100%|██████████| 2/2 [00:00<00:00,  2.37it/s]\n"
     ]
    },
    {
     "name": "stdout",
     "output_type": "stream",
     "text": [
      "Local update for all nodes for mode-d2d completed\n",
      "Average train loss pre-aggregate 0.147\n",
      "End of round- Entering aggregation\n",
      "Aggregation for mode d2d completed\n"
     ]
    },
    {
     "name": "stderr",
     "output_type": "stream",
     "text": [
      "\r",
      "  0%|          | 0/2 [00:00<?, ?it/s]"
     ]
    },
    {
     "name": "stdout",
     "output_type": "stream",
     "text": [
      "Model_testing completed\n",
      "Cycle 2 for mode d2d completed\n"
     ]
    },
    {
     "name": "stderr",
     "output_type": "stream",
     "text": [
      "100%|██████████| 2/2 [00:22<00:00, 11.09s/it]\n",
      "100%|██████████| 2/2 [00:14<00:00,  7.11s/it]\n",
      "100%|██████████| 2/2 [00:12<00:00,  6.41s/it]\n",
      "100%|██████████| 2/2 [00:06<00:00,  3.21s/it]\n",
      "100%|██████████| 2/2 [00:02<00:00,  1.26s/it]\n",
      "100%|██████████| 2/2 [00:17<00:00,  8.84s/it]\n",
      "100%|██████████| 2/2 [00:20<00:00, 10.04s/it]\n",
      "100%|██████████| 2/2 [00:08<00:00,  4.20s/it]\n",
      "100%|██████████| 2/2 [00:24<00:00, 12.12s/it]\n",
      "100%|██████████| 2/2 [00:08<00:00,  4.08s/it]\n",
      "100%|██████████| 2/2 [00:23<00:00, 11.64s/it]\n",
      "100%|██████████| 2/2 [00:15<00:00,  7.98s/it]\n",
      "100%|██████████| 2/2 [00:06<00:00,  3.23s/it]\n",
      "100%|██████████| 2/2 [00:03<00:00,  1.54s/it]\n",
      "100%|██████████| 2/2 [00:03<00:00,  1.57s/it]\n",
      "100%|██████████| 2/2 [00:11<00:00,  5.62s/it]\n",
      "100%|██████████| 2/2 [00:05<00:00,  2.79s/it]\n",
      "100%|██████████| 2/2 [00:10<00:00,  5.17s/it]\n",
      "100%|██████████| 2/2 [00:12<00:00,  6.45s/it]\n",
      "100%|██████████| 2/2 [00:08<00:00,  4.06s/it]\n",
      "100%|██████████| 2/2 [00:19<00:00,  9.69s/it]\n",
      "100%|██████████| 2/2 [00:08<00:00,  4.32s/it]\n",
      "100%|██████████| 2/2 [00:03<00:00,  1.53s/it]\n",
      "100%|██████████| 2/2 [00:13<00:00,  6.82s/it]\n",
      "100%|██████████| 2/2 [00:23<00:00, 11.97s/it]\n",
      "100%|██████████| 2/2 [00:09<00:00,  4.77s/it]\n",
      "100%|██████████| 2/2 [00:12<00:00,  6.41s/it]\n",
      "100%|██████████| 2/2 [00:04<00:00,  2.38s/it]\n",
      "100%|██████████| 2/2 [00:03<00:00,  1.55s/it]\n",
      "100%|██████████| 2/2 [00:00<00:00,  2.37it/s]\n"
     ]
    },
    {
     "name": "stdout",
     "output_type": "stream",
     "text": [
      "Local update for all nodes for mode-centr_fed completed\n",
      "Average train loss pre-aggregate 0.143\n",
      "End of round- Entering aggregation\n",
      "Aggregation for mode centr_fed completed\n"
     ]
    },
    {
     "name": "stderr",
     "output_type": "stream",
     "text": [
      "\r",
      "  0%|          | 0/2 [00:00<?, ?it/s]"
     ]
    },
    {
     "name": "stdout",
     "output_type": "stream",
     "text": [
      "Model_testing completed\n",
      "Cycle 2 for mode centr_fed completed\n"
     ]
    },
    {
     "name": "stderr",
     "output_type": "stream",
     "text": [
      "100%|██████████| 2/2 [05:36<00:00, 168.01s/it]\n",
      "  0%|          | 0/2 [00:00<?, ?it/s]"
     ]
    },
    {
     "name": "stdout",
     "output_type": "stream",
     "text": [
      "SGD Training completed-Moving to calculate Divergence\n",
      "SGD Divergence concluded\n"
     ]
    },
    {
     "name": "stderr",
     "output_type": "stream",
     "text": [
      "100%|██████████| 2/2 [00:22<00:00, 11.05s/it]\n",
      "100%|██████████| 2/2 [00:14<00:00,  7.25s/it]\n",
      "100%|██████████| 2/2 [00:12<00:00,  6.48s/it]\n",
      "100%|██████████| 2/2 [00:06<00:00,  3.26s/it]\n",
      "100%|██████████| 2/2 [00:02<00:00,  1.27s/it]\n",
      "100%|██████████| 2/2 [00:17<00:00,  8.85s/it]\n",
      "100%|██████████| 2/2 [00:20<00:00, 10.09s/it]\n",
      "100%|██████████| 2/2 [00:08<00:00,  4.44s/it]\n",
      "100%|██████████| 2/2 [00:24<00:00, 12.29s/it]\n",
      "100%|██████████| 2/2 [00:08<00:00,  4.13s/it]\n",
      "100%|██████████| 2/2 [00:23<00:00, 11.75s/it]\n",
      "100%|██████████| 2/2 [00:15<00:00,  7.99s/it]\n",
      "100%|██████████| 2/2 [00:06<00:00,  3.23s/it]\n",
      "100%|██████████| 2/2 [00:03<00:00,  1.54s/it]\n",
      "100%|██████████| 2/2 [00:03<00:00,  1.54s/it]\n",
      "100%|██████████| 2/2 [00:11<00:00,  5.61s/it]\n",
      "100%|██████████| 2/2 [00:05<00:00,  2.80s/it]\n",
      "100%|██████████| 2/2 [00:10<00:00,  5.21s/it]\n",
      "100%|██████████| 2/2 [00:12<00:00,  6.45s/it]\n",
      "100%|██████████| 2/2 [00:08<00:00,  4.03s/it]\n",
      "100%|██████████| 2/2 [00:19<00:00,  9.69s/it]\n",
      "  0%|          | 0/2 [00:00<?, ?it/s]"
     ]
    }
   ],
   "source": [
    "# Step 1: Define parameters for the environment, dataset and dataset distribution\n",
    "num_epochs = 2\n",
    "num_rounds = 50\n",
    "\n",
    "dataset = 'mnist'\n",
    "if dataset == 'mnist' or dataset == 'cifar': # Num labels will depend on the class in question\n",
    "    num_labels = 10\n",
    "if dataset == 'mnist':\n",
    "    in_ch =1\n",
    "elif dataset == 'cifar':\n",
    "    in_ch = 3\n",
    "    \n",
    "num_nodes = 30\n",
    "shard_size = 50 #shard size for Niid distribution\n",
    "\n",
    "modes = ['d2d_clus', 'd2d', 'centr_fed', 'sgd'] # 'd2d'\n",
    "clusters = [5, int(num_nodes/2), 1, None]\n",
    "\n",
    "#### Step 2: Import Dataset partitioned into train and testsets\n",
    "# Call data_select from data_utils\n",
    "traindata, testdata = dataset_select(dataset)\n",
    "\n",
    "#### Step 3: Divide data among the nodes according to the distribution IID or non-IID\n",
    "# Call data_iid/ data_noniid from data_dist\n",
    "# partitions = data_iid(train, num_nodes)\n",
    "# train_dist = data_iid(traindata, num_nodes)\n",
    "train_dist = data_noniid(traindata, num_nodes, shard_size)\n",
    "test_dist = data_iid(testdata, num_nodes)\n",
    "\n",
    "### Step5: Call federate function to start training\n",
    "model_collection, cluster_set, test_acc, trg_loss, test_loss, divergece_dict = federate(modes, num_rounds, num_epochs, num_nodes, clusters, num_labels, in_ch,\n",
    "                                 traindata, train_dist, testdata, test_dist)\n",
    "\n",
    "# num_cycles, num_epochs, num_nodes, cluster_set, num_labels, traindata, traindata_dist, testdata, testdata_dist, wt_init = 'same'\n",
    "   "
   ]
  },
  {
   "cell_type": "code",
   "execution_count": null,
   "metadata": {},
   "outputs": [],
   "source": [
    "# Remove nodes not part of any cluster\n",
    "nodes_list= list(range(num_nodes))\n",
    "exclude = []\n",
    "for node in nodes_list:\n",
    "    if any(node in cluster_list for cluster_list in cluster_set):\n",
    "        continue\n",
    "    else:\n",
    "        exclude.append(node)\n",
    "final_nodes = copy.deepcopy(nodes_list)\n",
    "for absent_nodes in exclude:\n",
    "    final_nodes.remove(absent_nodes)\n"
   ]
  },
  {
   "cell_type": "code",
   "execution_count": null,
   "metadata": {},
   "outputs": [],
   "source": [
    "timestr = time.strftime(\"%Y%m%d-%H\")\n",
    "modes = trg_loss.keys()\n",
    "for mode in modes:\n",
    "    if mode != 'sgd':\n",
    "        fig = plt.figure(figsize = (15,10))\n",
    "        for node in final_nodes:\n",
    "            plt.plot(test_acc[mode][node])\n",
    "            plt.title('Test Accuracy for mode %s' %mode)\n",
    "            plt.grid()\n",
    "        filename = './Results/Acc_Mode_' + dataset +'_'+  mode + '_'+ timestr\n",
    "        plt.savefig(filename)\n",
    "             "
   ]
  },
  {
   "cell_type": "code",
   "execution_count": null,
   "metadata": {},
   "outputs": [],
   "source": [
    "for mode in modes:\n",
    "    if mode != 'sgd':\n",
    "        fig = plt.figure(figsize = (15,10))\n",
    "        for node in final_nodes:\n",
    "            plt.plot(trg_loss[mode][node])\n",
    "            plt.title('Trg Loss for mode %s' %mode)\n",
    "            plt.grid()\n",
    "        filename = './Results/Loss_Mode_' + dataset +'_'+  mode + '_'+ timestr\n",
    "        plt.savefig(filename)"
   ]
  },
  {
   "cell_type": "code",
   "execution_count": null,
   "metadata": {},
   "outputs": [],
   "source": [
    "for mode in modes:\n",
    "    fig = plt.figure(figsize = (5, 10))\n",
    "    for round in range(len(divergece_dict)):\n",
    "        if mode != 'sgd':\n",
    "            divergence = []\n",
    "            for div_metric in divergece_dict[round][mode]:\n",
    "                divergence.append(div_metric.item())\n",
    "    plt.plot(divergence)"
   ]
  },
  {
   "cell_type": "code",
   "execution_count": null,
   "metadata": {},
   "outputs": [],
   "source": [
    "timestr = time.strftime(\"%Y%m%d-%H\")\n",
    "filename = './Results/results'  + dataset +'_'+  mode + '_'+ timestr\n",
    "results = [test_acc, trg_loss, divergece_dict, cluster_set]\n",
    "f = open(filename, 'wb')\n",
    "pickle.dump(results, f)"
   ]
  },
  {
   "cell_type": "code",
   "execution_count": null,
   "metadata": {},
   "outputs": [],
   "source": [
    "test_acc['sgd']"
   ]
  },
  {
   "cell_type": "code",
   "execution_count": null,
   "metadata": {},
   "outputs": [],
   "source": []
  }
 ],
 "metadata": {
  "kernelspec": {
   "display_name": "Python 3",
   "language": "python",
   "name": "python3"
  },
  "language_info": {
   "codemirror_mode": {
    "name": "ipython",
    "version": 3
   },
   "file_extension": ".py",
   "mimetype": "text/x-python",
   "name": "python",
   "nbconvert_exporter": "python",
   "pygments_lexer": "ipython3",
   "version": "3.8.1"
  }
 },
 "nbformat": 4,
 "nbformat_minor": 4
}
